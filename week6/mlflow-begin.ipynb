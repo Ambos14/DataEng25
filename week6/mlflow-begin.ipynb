{
 "cells": [
  {
   "cell_type": "code",
   "execution_count": 1,
   "id": "6e1ee429-90e9-4e30-9b8b-4670e7a23667",
   "metadata": {},
   "outputs": [
    {
     "name": "stdout",
     "output_type": "stream",
     "text": [
      "Collecting mlflow==2.11\n",
      "  Using cached mlflow-2.11.0-py3-none-any.whl.metadata (15 kB)\n",
      "Requirement already satisfied: click<9,>=7.0 in /opt/anaconda3/envs/aki/lib/python3.9/site-packages (from mlflow==2.11) (8.1.7)\n",
      "Requirement already satisfied: cloudpickle<4 in /opt/anaconda3/envs/aki/lib/python3.9/site-packages (from mlflow==2.11) (3.0.0)\n",
      "Requirement already satisfied: entrypoints<1 in /opt/anaconda3/envs/aki/lib/python3.9/site-packages (from mlflow==2.11) (0.4)\n",
      "Collecting gitpython<4,>=3.1.9 (from mlflow==2.11)\n",
      "  Using cached GitPython-3.1.44-py3-none-any.whl.metadata (13 kB)\n",
      "Requirement already satisfied: pyyaml<7,>=5.1 in /opt/anaconda3/envs/aki/lib/python3.9/site-packages (from mlflow==2.11) (6.0.1)\n",
      "Requirement already satisfied: protobuf<5,>=3.12.0 in /opt/anaconda3/envs/aki/lib/python3.9/site-packages (from mlflow==2.11) (4.25.7)\n",
      "Requirement already satisfied: pytz<2025 in /opt/anaconda3/envs/aki/lib/python3.9/site-packages (from mlflow==2.11) (2024.1)\n",
      "Requirement already satisfied: requests<3,>=2.17.3 in /opt/anaconda3/envs/aki/lib/python3.9/site-packages (from mlflow==2.11) (2.31.0)\n",
      "Collecting packaging<24 (from mlflow==2.11)\n",
      "  Using cached packaging-23.2-py3-none-any.whl.metadata (3.2 kB)\n",
      "Requirement already satisfied: importlib-metadata!=4.7.0,<8,>=3.7.0 in /opt/anaconda3/envs/aki/lib/python3.9/site-packages (from mlflow==2.11) (7.0.2)\n",
      "Requirement already satisfied: sqlparse<1,>=0.4.0 in /opt/anaconda3/envs/aki/lib/python3.9/site-packages (from mlflow==2.11) (0.5.3)\n",
      "Collecting alembic!=1.10.0,<2 (from mlflow==2.11)\n",
      "  Using cached alembic-1.15.2-py3-none-any.whl.metadata (7.3 kB)\n",
      "Collecting docker<8,>=4.0.0 (from mlflow==2.11)\n",
      "  Using cached docker-7.1.0-py3-none-any.whl.metadata (3.8 kB)\n",
      "Collecting Flask<4 (from mlflow==2.11)\n",
      "  Using cached flask-3.1.0-py3-none-any.whl.metadata (2.7 kB)\n",
      "Requirement already satisfied: numpy<2 in /opt/anaconda3/envs/aki/lib/python3.9/site-packages (from mlflow==2.11) (1.26.4)\n",
      "Requirement already satisfied: scipy<2 in /opt/anaconda3/envs/aki/lib/python3.9/site-packages (from mlflow==2.11) (1.12.0)\n",
      "Requirement already satisfied: pandas<3 in /opt/anaconda3/envs/aki/lib/python3.9/site-packages (from mlflow==2.11) (2.2.1)\n",
      "Requirement already satisfied: querystring-parser<2 in /opt/anaconda3/envs/aki/lib/python3.9/site-packages (from mlflow==2.11) (1.2.4)\n",
      "Collecting sqlalchemy<3,>=1.4.0 (from mlflow==2.11)\n",
      "  Using cached sqlalchemy-2.0.40-cp39-cp39-macosx_10_9_x86_64.whl.metadata (9.6 kB)\n",
      "Requirement already satisfied: scikit-learn<2 in /opt/anaconda3/envs/aki/lib/python3.9/site-packages (from mlflow==2.11) (1.4.1.post1)\n",
      "Requirement already satisfied: pyarrow<16,>=4.0.0 in /opt/anaconda3/envs/aki/lib/python3.9/site-packages (from mlflow==2.11) (15.0.1)\n",
      "Collecting markdown<4,>=3.3 (from mlflow==2.11)\n",
      "  Using cached markdown-3.8-py3-none-any.whl.metadata (5.1 kB)\n",
      "Requirement already satisfied: matplotlib<4 in /opt/anaconda3/envs/aki/lib/python3.9/site-packages (from mlflow==2.11) (3.8.3)\n",
      "Collecting graphene<4 (from mlflow==2.11)\n",
      "  Using cached graphene-3.4.3-py2.py3-none-any.whl.metadata (6.9 kB)\n",
      "Collecting gunicorn<22 (from mlflow==2.11)\n",
      "  Using cached gunicorn-21.2.0-py3-none-any.whl.metadata (4.1 kB)\n",
      "Requirement already satisfied: Jinja2<4,>=2.11 in /opt/anaconda3/envs/aki/lib/python3.9/site-packages (from mlflow==2.11) (3.1.3)\n",
      "Collecting Mako (from alembic!=1.10.0,<2->mlflow==2.11)\n",
      "  Using cached mako-1.3.10-py3-none-any.whl.metadata (2.9 kB)\n",
      "Requirement already satisfied: typing-extensions>=4.12 in /opt/anaconda3/envs/aki/lib/python3.9/site-packages (from alembic!=1.10.0,<2->mlflow==2.11) (4.13.2)\n",
      "Requirement already satisfied: urllib3>=1.26.0 in /opt/anaconda3/envs/aki/lib/python3.9/site-packages (from docker<8,>=4.0.0->mlflow==2.11) (2.2.1)\n",
      "Requirement already satisfied: Werkzeug>=3.1 in /opt/anaconda3/envs/aki/lib/python3.9/site-packages (from Flask<4->mlflow==2.11) (3.1.3)\n",
      "Collecting itsdangerous>=2.2 (from Flask<4->mlflow==2.11)\n",
      "  Using cached itsdangerous-2.2.0-py3-none-any.whl.metadata (1.9 kB)\n",
      "Collecting blinker>=1.9 (from Flask<4->mlflow==2.11)\n",
      "  Using cached blinker-1.9.0-py3-none-any.whl.metadata (1.6 kB)\n",
      "Collecting gitdb<5,>=4.0.1 (from gitpython<4,>=3.1.9->mlflow==2.11)\n",
      "  Using cached gitdb-4.0.12-py3-none-any.whl.metadata (1.2 kB)\n",
      "Collecting graphql-core<3.3,>=3.1 (from graphene<4->mlflow==2.11)\n",
      "  Using cached graphql_core-3.2.6-py3-none-any.whl.metadata (11 kB)\n",
      "Collecting graphql-relay<3.3,>=3.1 (from graphene<4->mlflow==2.11)\n",
      "  Using cached graphql_relay-3.2.0-py3-none-any.whl.metadata (12 kB)\n",
      "Requirement already satisfied: python-dateutil<3,>=2.7.0 in /opt/anaconda3/envs/aki/lib/python3.9/site-packages (from graphene<4->mlflow==2.11) (2.9.0)\n",
      "Requirement already satisfied: zipp>=0.5 in /opt/anaconda3/envs/aki/lib/python3.9/site-packages (from importlib-metadata!=4.7.0,<8,>=3.7.0->mlflow==2.11) (3.17.0)\n",
      "Requirement already satisfied: MarkupSafe>=2.0 in /opt/anaconda3/envs/aki/lib/python3.9/site-packages (from Jinja2<4,>=2.11->mlflow==2.11) (2.1.5)\n",
      "Requirement already satisfied: contourpy>=1.0.1 in /opt/anaconda3/envs/aki/lib/python3.9/site-packages (from matplotlib<4->mlflow==2.11) (1.2.0)\n",
      "Requirement already satisfied: cycler>=0.10 in /opt/anaconda3/envs/aki/lib/python3.9/site-packages (from matplotlib<4->mlflow==2.11) (0.12.1)\n",
      "Requirement already satisfied: fonttools>=4.22.0 in /opt/anaconda3/envs/aki/lib/python3.9/site-packages (from matplotlib<4->mlflow==2.11) (4.49.0)\n",
      "Requirement already satisfied: kiwisolver>=1.3.1 in /opt/anaconda3/envs/aki/lib/python3.9/site-packages (from matplotlib<4->mlflow==2.11) (1.4.5)\n",
      "Requirement already satisfied: pillow>=8 in /opt/anaconda3/envs/aki/lib/python3.9/site-packages (from matplotlib<4->mlflow==2.11) (10.2.0)\n",
      "Requirement already satisfied: pyparsing>=2.3.1 in /opt/anaconda3/envs/aki/lib/python3.9/site-packages (from matplotlib<4->mlflow==2.11) (3.1.2)\n",
      "Requirement already satisfied: importlib-resources>=3.2.0 in /opt/anaconda3/envs/aki/lib/python3.9/site-packages (from matplotlib<4->mlflow==2.11) (6.3.0)\n",
      "Requirement already satisfied: tzdata>=2022.7 in /opt/anaconda3/envs/aki/lib/python3.9/site-packages (from pandas<3->mlflow==2.11) (2024.1)\n",
      "Requirement already satisfied: six in /opt/anaconda3/envs/aki/lib/python3.9/site-packages (from querystring-parser<2->mlflow==2.11) (1.16.0)\n",
      "Requirement already satisfied: charset-normalizer<4,>=2 in /opt/anaconda3/envs/aki/lib/python3.9/site-packages (from requests<3,>=2.17.3->mlflow==2.11) (3.3.2)\n",
      "Requirement already satisfied: idna<4,>=2.5 in /opt/anaconda3/envs/aki/lib/python3.9/site-packages (from requests<3,>=2.17.3->mlflow==2.11) (3.6)\n",
      "Requirement already satisfied: certifi>=2017.4.17 in /opt/anaconda3/envs/aki/lib/python3.9/site-packages (from requests<3,>=2.17.3->mlflow==2.11) (2024.6.2)\n",
      "Requirement already satisfied: joblib>=1.2.0 in /opt/anaconda3/envs/aki/lib/python3.9/site-packages (from scikit-learn<2->mlflow==2.11) (1.3.2)\n",
      "Requirement already satisfied: threadpoolctl>=2.0.0 in /opt/anaconda3/envs/aki/lib/python3.9/site-packages (from scikit-learn<2->mlflow==2.11) (3.3.0)\n",
      "Collecting greenlet>=1 (from sqlalchemy<3,>=1.4.0->mlflow==2.11)\n",
      "  Using cached greenlet-3.2.1-cp39-cp39-macosx_11_0_universal2.whl.metadata (4.1 kB)\n",
      "Requirement already satisfied: smmap<6,>=3.0.1 in /opt/anaconda3/envs/aki/lib/python3.9/site-packages (from gitdb<5,>=4.0.1->gitpython<4,>=3.1.9->mlflow==2.11) (5.0.2)\n",
      "Using cached mlflow-2.11.0-py3-none-any.whl (19.7 MB)\n",
      "Using cached alembic-1.15.2-py3-none-any.whl (231 kB)\n",
      "Using cached docker-7.1.0-py3-none-any.whl (147 kB)\n",
      "Using cached flask-3.1.0-py3-none-any.whl (102 kB)\n",
      "Using cached GitPython-3.1.44-py3-none-any.whl (207 kB)\n",
      "Using cached graphene-3.4.3-py2.py3-none-any.whl (114 kB)\n",
      "Using cached gunicorn-21.2.0-py3-none-any.whl (80 kB)\n",
      "Using cached markdown-3.8-py3-none-any.whl (106 kB)\n",
      "Using cached packaging-23.2-py3-none-any.whl (53 kB)\n",
      "Using cached sqlalchemy-2.0.40-cp39-cp39-macosx_10_9_x86_64.whl (2.1 MB)\n",
      "Using cached blinker-1.9.0-py3-none-any.whl (8.5 kB)\n",
      "Using cached gitdb-4.0.12-py3-none-any.whl (62 kB)\n",
      "Using cached graphql_core-3.2.6-py3-none-any.whl (203 kB)\n",
      "Using cached graphql_relay-3.2.0-py3-none-any.whl (16 kB)\n",
      "Using cached greenlet-3.2.1-cp39-cp39-macosx_11_0_universal2.whl (266 kB)\n",
      "Using cached itsdangerous-2.2.0-py3-none-any.whl (16 kB)\n",
      "Using cached mako-1.3.10-py3-none-any.whl (78 kB)\n",
      "Installing collected packages: packaging, Mako, itsdangerous, greenlet, graphql-core, gitdb, blinker, sqlalchemy, markdown, gunicorn, graphql-relay, gitpython, Flask, docker, graphene, alembic, mlflow\n",
      "  Attempting uninstall: packaging\n",
      "    Found existing installation: packaging 24.0\n",
      "    Uninstalling packaging-24.0:\n",
      "      Successfully uninstalled packaging-24.0\n",
      "\u001b[31mERROR: Could not install packages due to an OSError: [Errno 28] No space left on device\n",
      "\u001b[0m\u001b[31m\n",
      "\u001b[0m"
     ]
    }
   ],
   "source": [
    "!pip install mlflow==2.11"
   ]
  },
  {
   "cell_type": "code",
   "execution_count": 2,
   "id": "d2c5fc4e-ce72-4eaf-9037-4f9efc16a65a",
   "metadata": {},
   "outputs": [],
   "source": [
    "import mlflow\n",
    "\n",
    "from sklearn.model_selection import train_test_split\n",
    "from sklearn.datasets import load_diabetes\n",
    "from sklearn.ensemble import RandomForestRegressor"
   ]
  },
  {
   "cell_type": "code",
   "execution_count": 3,
   "id": "32d69b3c-5174-44c0-9c26-d6b8eb65c01b",
   "metadata": {},
   "outputs": [],
   "source": [
    "# Set our tracking server uri for logging\n",
    "mlflow.set_tracking_uri(uri=\"http://127.0.0.1:8081\")"
   ]
  },
  {
   "cell_type": "code",
   "execution_count": null,
   "id": "62f2ff9b-015e-4a8e-a92d-4dff3ceede72",
   "metadata": {},
   "outputs": [
    {
     "name": "stderr",
     "output_type": "stream",
     "text": [
      "2025/05/08 14:37:48 INFO mlflow.tracking.fluent: Autologging successfully enabled for sklearn.\n"
     ]
    }
   ],
   "source": [
    "mlflow.autolog()\n",
    "\n",
    "db = load_diabetes()\n",
    "X_train, X_test, y_train, y_test = train_test_split(db.data, db.target)\n",
    "\n",
    "rf = RandomForestRegressor(n_estimators=100, max_depth=6, max_features=3)\n",
    "# MLflow triggers logging automatically upon model fitting\n",
    "rf.fit(X_train, y_train)"
   ]
  },
  {
   "cell_type": "code",
   "execution_count": null,
   "id": "f6be2e7a-7000-4c5c-b636-0dc1c4a2ce8e",
   "metadata": {},
   "outputs": [],
   "source": []
  }
 ],
 "metadata": {
  "kernelspec": {
   "display_name": "aki",
   "language": "python",
   "name": "python3"
  },
  "language_info": {
   "codemirror_mode": {
    "name": "ipython",
    "version": 3
   },
   "file_extension": ".py",
   "mimetype": "text/x-python",
   "name": "python",
   "nbconvert_exporter": "python",
   "pygments_lexer": "ipython3",
   "version": "3.9.18"
  }
 },
 "nbformat": 4,
 "nbformat_minor": 5
}
