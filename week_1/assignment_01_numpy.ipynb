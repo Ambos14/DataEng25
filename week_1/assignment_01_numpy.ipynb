{
  "cells": [
    {
      "cell_type": "markdown",
      "metadata": {
        "_uuid": "7dac2651304bbdd274a99291c17f3be1e84c222b",
        "id": "ttWlK_Apm27x"
      },
      "source": [
        "# Numpy exercises\n",
        "\n",
        "HINT: use the Numpy documentations\n",
        "* [NumPy User Guide](https://numpy.org/doc/1.22/user/index.html#user)\n",
        "* [NumPy API](https://numpy.org/doc/1.22/reference/index.html#reference)"
      ]
    },
    {
      "cell_type": "code",
      "execution_count": 2,
      "metadata": {
        "_uuid": "1f42e0ab79d92a23b119e23ab8dda63393447466",
        "tags": [],
        "id": "jgfqTYCrm270"
      },
      "outputs": [],
      "source": [
        "\n",
        "  import numpy as np"
      ]
    },
    {
      "cell_type": "markdown",
      "metadata": {
        "_uuid": "77978f9afb5f957440f180861ccb06c2f644c317",
        "id": "sZ3s9fIkm272"
      },
      "source": [
        "#### 1) Create a null vector of size 10 (★☆☆)"
      ]
    },
    {
      "cell_type": "code",
      "execution_count": 3,
      "metadata": {
        "_uuid": "beeb301d90b0fd6cb0f015969c969870bee981e8",
        "colab": {
          "base_uri": "https://localhost:8080/"
        },
        "id": "6XP3zd6Sm273",
        "outputId": "9abe6711-8fe1-4308-fb4f-6515a972285b"
      },
      "outputs": [
        {
          "output_type": "execute_result",
          "data": {
            "text/plain": [
              "array([0., 0., 0., 0., 0., 0., 0., 0., 0., 0.])"
            ]
          },
          "metadata": {},
          "execution_count": 3
        }
      ],
      "source": [
        "tenZeros = np.zeros(10)\n",
        "tenZeros\n"
      ]
    },
    {
      "cell_type": "markdown",
      "metadata": {
        "_uuid": "9f2912dbc92ebcc2e86ac09930187d5d101552da",
        "id": "1RoYT0Szm273"
      },
      "source": [
        "#### 2) Print the memory size in bytes of any array (★☆☆)"
      ]
    },
    {
      "cell_type": "code",
      "execution_count": 4,
      "metadata": {
        "_uuid": "114a14936bde56cae519ed2f781f0b241251bdab",
        "colab": {
          "base_uri": "https://localhost:8080/"
        },
        "id": "5XJkpop-m273",
        "outputId": "bf7e07f2-c366-4488-cafd-3be83ef133e0"
      },
      "outputs": [
        {
          "output_type": "stream",
          "name": "stdout",
          "text": [
            "Speichergröße: 800 Bytes\n"
          ]
        }
      ],
      "source": [
        "Z = np.zeros((10,10))\n",
        "\n",
        "# Speicherplatz berechnen\n",
        "memory_size = Z.size * Z.itemsize\n",
        "\n",
        "print(f\"Speichergröße: {memory_size} Bytes\")\n",
        "\n"
      ]
    },
    {
      "cell_type": "markdown",
      "metadata": {
        "_uuid": "c75ba6ea73f0a23f837c1553a0f564fbb8748557",
        "id": "XMmvv9mbm274"
      },
      "source": [
        "#### 3) Create a null vector of size 10 but the fifth value which is 1 (★☆☆)"
      ]
    },
    {
      "cell_type": "code",
      "execution_count": 5,
      "metadata": {
        "_uuid": "a916d1332f7e1d7499fd9de3bb422651711df025",
        "colab": {
          "base_uri": "https://localhost:8080/"
        },
        "id": "kwjrKEuym274",
        "outputId": "cf72daf3-a979-443b-b9d3-356a536ee6cd"
      },
      "outputs": [
        {
          "output_type": "execute_result",
          "data": {
            "text/plain": [
              "array([0., 0., 0., 0., 1., 0., 0., 0., 0., 0.])"
            ]
          },
          "metadata": {},
          "execution_count": 5
        }
      ],
      "source": [
        "Z = np.zeros(10)\n",
        "\n",
        "Z[4]=1\n",
        "\n",
        "Z\n"
      ]
    },
    {
      "cell_type": "markdown",
      "metadata": {
        "_uuid": "118478fd9f22dc99584c1517078f1cdd4a4b36fc",
        "id": "WPNY0rVam275"
      },
      "source": [
        "#### 4) Create a vector with values ranging from 20 to 80 (★☆☆)"
      ]
    },
    {
      "cell_type": "code",
      "execution_count": 6,
      "metadata": {
        "_uuid": "ac7cbc58129168a298298ae6d3a756a2a94c2a5d",
        "colab": {
          "base_uri": "https://localhost:8080/"
        },
        "id": "hBteOE6Pm275",
        "outputId": "10a603d5-d84f-4b4d-8b09-62b2b28ff312"
      },
      "outputs": [
        {
          "output_type": "execute_result",
          "data": {
            "text/plain": [
              "array([20, 30, 40, 50, 60, 70])"
            ]
          },
          "metadata": {},
          "execution_count": 6
        }
      ],
      "source": [
        "x = np.arange(20, 80, 10)\n",
        "x"
      ]
    },
    {
      "cell_type": "markdown",
      "metadata": {
        "_uuid": "1c153cfc18b4c413b602d9fa073a4c049f1e703b",
        "id": "Fp0g34a6m276"
      },
      "source": [
        "#### 5) Reverse a vector (first element becomes last) (★☆☆)"
      ]
    },
    {
      "cell_type": "code",
      "execution_count": 7,
      "metadata": {
        "_uuid": "f1498235d2137116b1a7fabc6626dc8549235aba",
        "colab": {
          "base_uri": "https://localhost:8080/"
        },
        "id": "anXg6wEHm276",
        "outputId": "f91b2dc8-fa9e-41df-82df-decd418b9674"
      },
      "outputs": [
        {
          "output_type": "execute_result",
          "data": {
            "text/plain": [
              "array([49, 48, 47, 46, 45, 44, 43, 42, 41, 40, 39, 38, 37, 36, 35, 34, 33,\n",
              "       32, 31, 30, 29, 28, 27, 26, 25, 24, 23, 22, 21, 20, 19, 18, 17, 16,\n",
              "       15, 14, 13, 12, 11, 10,  9,  8,  7,  6,  5,  4,  3,  2,  1,  0])"
            ]
          },
          "metadata": {},
          "execution_count": 7
        }
      ],
      "source": [
        "Z = np.arange(50)\n",
        "\n",
        "Zflip = np.flip(Z,axis=0)\n",
        "Zflip\n"
      ]
    },
    {
      "cell_type": "markdown",
      "metadata": {
        "_uuid": "647011edcdd237ef4bfa0ec4ce3a108805bbd11f",
        "id": "hWm0LFxJm276"
      },
      "source": [
        "#### 6) Create a 3x3 matrix with values ranging from 0 to 8 (★☆☆)"
      ]
    },
    {
      "cell_type": "code",
      "execution_count": 8,
      "metadata": {
        "_uuid": "d6bf86992dbc3539332876b2caf973bafdb9a790",
        "colab": {
          "base_uri": "https://localhost:8080/"
        },
        "id": "D9PENOQRm277",
        "outputId": "50063eb7-2b69-4319-b485-fab4e1452652"
      },
      "outputs": [
        {
          "output_type": "execute_result",
          "data": {
            "text/plain": [
              "array([[0, 1, 2],\n",
              "       [3, 4, 5],\n",
              "       [6, 7, 8]])"
            ]
          },
          "metadata": {},
          "execution_count": 8
        }
      ],
      "source": [
        "Z = np.arange(9).reshape(3,3)\n",
        "Z"
      ]
    },
    {
      "cell_type": "markdown",
      "metadata": {
        "_uuid": "c7d5733bee779737b5ad4250b257d0a1423ffbff",
        "id": "5CMbv0xFm277"
      },
      "source": [
        "#### 7) Find indices of non-zero elements from \\[1,2,0,0,4,0\\] (★☆☆)"
      ]
    },
    {
      "cell_type": "code",
      "execution_count": 9,
      "metadata": {
        "_uuid": "e6e0544a4326eaf8f3ea6390a16422a9844d48fc",
        "colab": {
          "base_uri": "https://localhost:8080/"
        },
        "id": "OHeCXBUQm277",
        "outputId": "766d1a0e-bf28-488c-c0c3-a01b810a25a9"
      },
      "outputs": [
        {
          "output_type": "stream",
          "name": "stdout",
          "text": [
            "(array([2, 3, 5]),)\n"
          ]
        }
      ],
      "source": [
        "array = np.array([1,2,0,0,4,0])\n",
        "\n",
        "indicis = np.where(array == 0)\n",
        "\n",
        "print(indicis)"
      ]
    },
    {
      "cell_type": "markdown",
      "metadata": {
        "_uuid": "ab5c1aaf0377ab923c6dbb7452671c181544734a",
        "id": "jcWc_Sdwm277"
      },
      "source": [
        "#### 8) Create a 3x3 identity matrix (★☆☆)"
      ]
    },
    {
      "cell_type": "code",
      "execution_count": 10,
      "metadata": {
        "_uuid": "0e10bd7b228cff4c485d80142fa5afcea12eb0e1",
        "colab": {
          "base_uri": "https://localhost:8080/"
        },
        "id": "2MmM5n-Nm277",
        "outputId": "29498668-4c48-4d2d-9345-30071be1459e"
      },
      "outputs": [
        {
          "output_type": "stream",
          "name": "stdout",
          "text": [
            "[[1. 0. 0.]\n",
            " [0. 1. 0.]\n",
            " [0. 0. 1.]]\n"
          ]
        }
      ],
      "source": [
        "I = np.eye(3)\n",
        "print(I)"
      ]
    },
    {
      "cell_type": "markdown",
      "metadata": {
        "_uuid": "9c3d53fd277d07937bc04838c4ca57a0aaaec498",
        "id": "aZ-7pvj3m277"
      },
      "source": [
        "#### 9) Create a 3x3x3 array with random values (★☆☆)"
      ]
    },
    {
      "cell_type": "code",
      "execution_count": 11,
      "metadata": {
        "_uuid": "77840458ba47b330dd84bab7a119e85299856c57",
        "tags": [],
        "colab": {
          "base_uri": "https://localhost:8080/"
        },
        "id": "4M1lf5_tm278",
        "outputId": "ceb8c57a-2206-469f-b03d-e426ebf7fbac"
      },
      "outputs": [
        {
          "output_type": "stream",
          "name": "stdout",
          "text": [
            "[[[0.32998854 0.11667129 0.55217514]\n",
            "  [0.7998871  0.55447592 0.92898062]\n",
            "  [0.45545685 0.97085179 0.41987952]]\n",
            "\n",
            " [[0.99937631 0.70040887 0.11200333]\n",
            "  [0.70900045 0.4552628  0.04240616]\n",
            "  [0.40636105 0.64927522 0.19752641]]\n",
            "\n",
            " [[0.54784553 0.20581768 0.90280998]\n",
            "  [0.63600511 0.38728017 0.88877326]\n",
            "  [0.04337646 0.03500927 0.55452954]]]\n"
          ]
        }
      ],
      "source": [
        "random_array = np.random.rand(3, 3, 3)\n",
        "\n",
        "print(random_array)"
      ]
    },
    {
      "cell_type": "markdown",
      "metadata": {
        "_uuid": "886bef95cd1aa9af4133902b45b50127b5da54cb",
        "id": "lisdYEUJm278"
      },
      "source": [
        "#### 10) Create a 10x10 array with random values and find the minimum and maximum values (★☆☆)"
      ]
    },
    {
      "cell_type": "code",
      "execution_count": 14,
      "metadata": {
        "_uuid": "a8c13dc011c6afb824c3a7031330b6bd1a77e497",
        "colab": {
          "base_uri": "https://localhost:8080/"
        },
        "id": "XwrdYXbIm278",
        "outputId": "9f221241-27a4-48f2-ca26-0ee70f4e9df5"
      },
      "outputs": [
        {
          "output_type": "stream",
          "name": "stdout",
          "text": [
            "[[0.73991445 0.51858681 0.53234011 0.74003468 0.02192604 0.36665001\n",
            "  0.22571622 0.21161064 0.00902398 0.63114009]\n",
            " [0.46529559 0.59476821 0.93236093 0.18075529 0.89454059 0.00533489\n",
            "  0.17886131 0.51347659 0.05221203 0.95879426]\n",
            " [0.82466448 0.80587665 0.04979533 0.83847164 0.94395276 0.13052937\n",
            "  0.91997097 0.70212724 0.06502204 0.65059319]\n",
            " [0.42763802 0.04833879 0.53755513 0.68749007 0.1788572  0.14962925\n",
            "  0.6452045  0.80130413 0.49647258 0.67735482]\n",
            " [0.75686018 0.62394729 0.8425775  0.416882   0.78651902 0.40074249\n",
            "  0.14868884 0.55401552 0.60545523 0.45351049]\n",
            " [0.15725257 0.85305516 0.07376081 0.59791672 0.77996506 0.64515276\n",
            "  0.05195844 0.70241621 0.6492764  0.85853161]\n",
            " [0.74480985 0.46971623 0.30939979 0.02412912 0.70881114 0.14850875\n",
            "  0.76076921 0.81588711 0.09209926 0.63572527]\n",
            " [0.62742317 0.73381046 0.67782738 0.89381064 0.24089547 0.23486283\n",
            "  0.95994457 0.44961578 0.63662191 0.20990878]\n",
            " [0.58054013 0.03056657 0.9638936  0.43202105 0.17481498 0.70794234\n",
            "  0.71785881 0.50995734 0.60593489 0.56377278]\n",
            " [0.32924721 0.9950343  0.61023973 0.68852619 0.975992   0.59237998\n",
            "  0.84711724 0.48789072 0.36592454 0.59821197]]\n",
            "0.9950342997787553\n",
            "0.0053348949562574965\n"
          ]
        }
      ],
      "source": [
        "random = np.random.rand(10,10)\n",
        "\n",
        "print(random)\n",
        "\n",
        "print(np.max(random))\n",
        "print(np.min(random))"
      ]
    },
    {
      "cell_type": "markdown",
      "metadata": {
        "_uuid": "07db1e47dcff92113a6d4c696e92a5578b20d89f",
        "id": "4zDJyIn2m278"
      },
      "source": [
        "#### 11) Create a random vector of size 30 and find the mean, variance values (★☆☆)"
      ]
    },
    {
      "cell_type": "code",
      "execution_count": 17,
      "metadata": {
        "_uuid": "a6533f70b28d583e6e1926a0e3e668b465d6ef6c",
        "colab": {
          "base_uri": "https://localhost:8080/"
        },
        "id": "jqVRwn2Am278",
        "outputId": "1b801dd7-133c-4377-a7b3-0e6e8b673f82"
      },
      "outputs": [
        {
          "output_type": "stream",
          "name": "stdout",
          "text": [
            "0.565575907081844\n",
            "0.09674081337516341\n"
          ]
        }
      ],
      "source": [
        "another = np.random.rand(30)\n",
        "\n",
        "mean = np.mean(another)\n",
        "variance = np.var(another)\n",
        "\n",
        "print(mean)\n",
        "print(variance)"
      ]
    },
    {
      "cell_type": "markdown",
      "metadata": {
        "_uuid": "2234dffb1dffc779d1d24f269da232a560848ad0",
        "id": "DBCvhkMMm278"
      },
      "source": [
        "#### 12) Create a 2d array with 1 on the border and 0 inside (★☆☆)"
      ]
    },
    {
      "cell_type": "code",
      "execution_count": 31,
      "metadata": {
        "_uuid": "03bef7c11ab2593768ce88331a92c0c7cc10d463",
        "colab": {
          "base_uri": "https://localhost:8080/"
        },
        "id": "IiBOUmNzm279",
        "outputId": "d92a6220-a773-46b7-86a4-0eb3ea34cabd"
      },
      "outputs": [
        {
          "output_type": "stream",
          "name": "stdout",
          "text": [
            "[[1. 1. 1. 1. 1. 1. 1. 1. 1. 1.]\n",
            " [1. 0. 0. 0. 0. 0. 0. 0. 0. 1.]\n",
            " [1. 0. 0. 0. 0. 0. 0. 0. 0. 1.]\n",
            " [1. 0. 0. 0. 0. 0. 0. 0. 0. 1.]\n",
            " [1. 0. 0. 0. 0. 0. 0. 0. 0. 1.]\n",
            " [1. 0. 0. 0. 0. 0. 0. 0. 0. 1.]\n",
            " [1. 0. 0. 0. 0. 0. 0. 0. 0. 1.]\n",
            " [1. 0. 0. 0. 0. 0. 0. 0. 0. 1.]\n",
            " [1. 0. 0. 0. 0. 0. 0. 0. 0. 1.]\n",
            " [1. 1. 1. 1. 1. 1. 1. 1. 1. 1.]]\n"
          ]
        }
      ],
      "source": [
        "Z = np.ones((10,10))\n",
        "Z[1:-1, 1:-1] = 0  # Innenbereich auf 0 setzen\n",
        "print(Z)\n",
        ""
      ]
    },
    {
      "cell_type": "markdown",
      "metadata": {
        "_uuid": "6e24eff853c1ead319eba0adf0efdf31a58c6944",
        "id": "qmh9zXPdm279"
      },
      "source": [
        "#### 13) How to add a border (filled with 0's) around an existing array? (★☆☆)"
      ]
    },
    {
      "cell_type": "code",
      "execution_count": 32,
      "metadata": {
        "_uuid": "573dd1238aef49fed4a9cfeb645c09119a307916",
        "colab": {
          "base_uri": "https://localhost:8080/"
        },
        "id": "gEOotytwm279",
        "outputId": "08a73d65-bb1a-4eb4-de94-c48f7e8fa9e4"
      },
      "outputs": [
        {
          "output_type": "stream",
          "name": "stdout",
          "text": [
            "[[0. 0. 0. 0. 0. 0. 0.]\n",
            " [0. 1. 1. 1. 1. 1. 0.]\n",
            " [0. 1. 1. 1. 1. 1. 0.]\n",
            " [0. 1. 1. 1. 1. 1. 0.]\n",
            " [0. 1. 1. 1. 1. 1. 0.]\n",
            " [0. 1. 1. 1. 1. 1. 0.]\n",
            " [0. 0. 0. 0. 0. 0. 0.]]\n"
          ]
        }
      ],
      "source": [
        "Z = np.ones((5,5))\n",
        "\n",
        "# Mit 0er-Rand erweitern\n",
        "Z_padded = np.pad(Z, pad_width=1, mode='constant', constant_values=0)\n",
        "\n",
        "print(Z_padded)\n"
      ]
    },
    {
      "cell_type": "markdown",
      "metadata": {
        "_uuid": "1f657aee797f18a40aa7a5e98362719bc73ebdee",
        "id": "WwrPbDOkm279"
      },
      "source": [
        "#### 14) Predict (before executing) the results of the following expressions? (★☆☆)"
      ]
    },
    {
      "cell_type": "code",
      "execution_count": 33,
      "metadata": {
        "_uuid": "5bd51740ffe0b687da93acf403807897292ebbc5",
        "colab": {
          "base_uri": "https://localhost:8080/"
        },
        "id": "7KD-t3gCm27-",
        "outputId": "afee8950-49e0-4006-816b-fd08d8c00aac"
      },
      "outputs": [
        {
          "output_type": "stream",
          "name": "stdout",
          "text": [
            "nan\n",
            "False\n",
            "False\n",
            "nan\n",
            "True\n",
            "False\n"
          ]
        }
      ],
      "source": [
        "print(0 * np.nan)\n",
        "print(np.nan == np.nan)\n",
        "print(np.inf > np.nan)\n",
        "print(np.nan - np.nan)\n",
        "print(np.nan in set([np.nan]))\n",
        "print(0.3 == 3 * 0.1)"
      ]
    },
    {
      "cell_type": "markdown",
      "metadata": {
        "_uuid": "e22023622e0ec70b97ca378772dae42cff45d73c",
        "id": "L3B0SzeNm27_"
      },
      "source": [
        "#### 15) Create a 6×6 matrix with values 1,2,3,4,5 just below the diagonal (★☆☆)"
      ]
    },
    {
      "cell_type": "code",
      "execution_count": 34,
      "metadata": {
        "_uuid": "f1aaa690119ec31eb516c96023250ff10f2800be",
        "colab": {
          "base_uri": "https://localhost:8080/"
        },
        "id": "bDGYEmLSm28A",
        "outputId": "1145f254-4f6d-4c5c-d301-532eed1e47b3"
      },
      "outputs": [
        {
          "output_type": "stream",
          "name": "stdout",
          "text": [
            "[[0 0 0 0 0 0]\n",
            " [1 0 0 0 0 0]\n",
            " [0 2 0 0 0 0]\n",
            " [0 0 3 0 0 0]\n",
            " [0 0 0 4 0 0]\n",
            " [0 0 0 0 5 0]]\n"
          ]
        }
      ],
      "source": [
        "Z = np.diag(np.arange(1, 6), k=-1)\n",
        "\n",
        "print(Z)"
      ]
    },
    {
      "cell_type": "markdown",
      "metadata": {
        "_uuid": "2e1e85761e1eafa4cd8986a3aa28763f2b8197e2",
        "id": "mvoehDtWm28A"
      },
      "source": [
        "#### 16) Create a 8x8 matrix and fill it with a checkerboard (0,1) pattern (★☆☆)"
      ]
    },
    {
      "cell_type": "code",
      "execution_count": 36,
      "metadata": {
        "_uuid": "467504e8796a218a3faa0a787775d8aa577f4c32",
        "colab": {
          "base_uri": "https://localhost:8080/"
        },
        "id": "W7fRnugXm28B",
        "outputId": "97e87293-97dc-4686-8b20-4c4d015be1d2"
      },
      "outputs": [
        {
          "output_type": "stream",
          "name": "stdout",
          "text": [
            "[[0 1 0 1 0 1 0 1]\n",
            " [1 0 1 0 1 0 1 0]\n",
            " [0 1 0 1 0 1 0 1]\n",
            " [1 0 1 0 1 0 1 0]\n",
            " [0 1 0 1 0 1 0 1]\n",
            " [1 0 1 0 1 0 1 0]\n",
            " [0 1 0 1 0 1 0 1]\n",
            " [1 0 1 0 1 0 1 0]]\n"
          ]
        }
      ],
      "source": [
        "Z = np.zeros((8,8),dtype=int)\n",
        "\n",
        "\n",
        "Z[1::2, ::2] = 1\n",
        "Z[::2, 1::2] = 1\n",
        "\n",
        "print(Z)"
      ]
    },
    {
      "cell_type": "markdown",
      "metadata": {
        "_uuid": "87e644b2696a16879dcf96b35b17a48db550cd04",
        "id": "yawJPwplm28B"
      },
      "source": [
        "#### 17) Consider a (5,6,7) shape array, what is the index (x, y, z) of the 50th element?"
      ]
    },
    {
      "cell_type": "code",
      "execution_count": 37,
      "metadata": {
        "_uuid": "eabdb2c5e23366c763f0cc39939ee68866c3f111",
        "colab": {
          "base_uri": "https://localhost:8080/"
        },
        "id": "NCRAqutFm28B",
        "outputId": "1ea6b391-1068-4997-c9c1-b84ef8d69a10"
      },
      "outputs": [
        {
          "output_type": "stream",
          "name": "stdout",
          "text": [
            "(np.int64(1), np.int64(1), np.int64(0))\n"
          ]
        }
      ],
      "source": [
        "shape = (5,6,7)\n",
        "linear_index = 49\n",
        "\n",
        "index = np.unravel_index(linear_index, shape)\n",
        "\n",
        "print(index)"
      ]
    },
    {
      "cell_type": "markdown",
      "metadata": {
        "_uuid": "659926bf5bf80842361a658fd0f84bf24084fbf3",
        "id": "2QaAn9oxm28B"
      },
      "source": [
        "#### 18) Multiply a 4x2 matrix by a 2x3 matrix (real matrix product) (★☆☆)"
      ]
    },
    {
      "cell_type": "code",
      "execution_count": 40,
      "metadata": {
        "_uuid": "8be73ba1bd9778d487ac20ef5658c7b8e57c3d67",
        "colab": {
          "base_uri": "https://localhost:8080/"
        },
        "id": "i8CbUJ_4m28B",
        "outputId": "fc6622b1-f78a-4adb-cb9f-3c634b158ee8"
      },
      "outputs": [
        {
          "output_type": "stream",
          "name": "stdout",
          "text": [
            "[[0.04367848 0.37300878 0.51858479]\n",
            " [0.31070556 0.62589638 1.18450516]\n",
            " [0.16578124 0.19176593 0.456371  ]\n",
            " [0.19452239 0.32620382 0.66048704]]\n"
          ]
        }
      ],
      "source": [
        "A = np.random.random((4,2))\n",
        "B =  np.random.random((2,3))\n",
        "\n",
        "C = np.dot(A, B)\n",
        "\n",
        "print(C)"
      ]
    },
    {
      "cell_type": "markdown",
      "metadata": {
        "_uuid": "0a65567844ac53a18dbb387a8694da2b1c78294a",
        "id": "LcVAsfCjm28B"
      },
      "source": [
        "#### 19) Given a 1D array, negate all elements which are between 3 and 8, in place. (★☆☆)"
      ]
    },
    {
      "cell_type": "code",
      "execution_count": 42,
      "metadata": {
        "_uuid": "d48512adb16f06371f651dd8dc1ae9ea1c3586b1",
        "colab": {
          "base_uri": "https://localhost:8080/"
        },
        "id": "ydAjwk3Am28C",
        "outputId": "d4d0dcf0-44ce-4c24-c7c4-20ebf6a233aa"
      },
      "outputs": [
        {
          "output_type": "stream",
          "name": "stdout",
          "text": [
            "[ 0  1  2 -3 -4 -5 -6 -7 -8  9 10]\n"
          ]
        }
      ],
      "source": [
        "# Author: Evgeni Burovski\n",
        "\n",
        "Z = np.arange(11)\n",
        "\n",
        "\n",
        "Z[(Z >= 3) & (Z <= 8)] *= -1  # Negiere Werte zwischen 3 und 8\n",
        "\n",
        "print(Z)\n"
      ]
    },
    {
      "cell_type": "markdown",
      "metadata": {
        "_uuid": "e49ca0d2249b4a5cf25b264e42c6feb3057889ed",
        "id": "73roDmKEm28C"
      },
      "source": [
        "#### 20. How to find common values between two arrays? (★☆☆)"
      ]
    },
    {
      "cell_type": "code",
      "execution_count": 43,
      "metadata": {
        "_uuid": "b7a1b2802e4c4a2ac5baf737e2065c55bef226b6",
        "colab": {
          "base_uri": "https://localhost:8080/"
        },
        "id": "V2L82V4fm28C",
        "outputId": "946c2d40-2dc2-4fe5-ebc2-ae46f35a9c86"
      },
      "outputs": [
        {
          "output_type": "stream",
          "name": "stdout",
          "text": [
            "[0 4 5 8]\n"
          ]
        }
      ],
      "source": [
        "Z1 = np.random.randint(0,10,10)\n",
        "Z2 = np.random.randint(0,10,10)\n",
        "\n",
        "common_values = np.intersect1d(Z1, Z2)\n",
        "\n",
        "print(common_values)"
      ]
    },
    {
      "cell_type": "markdown",
      "metadata": {
        "_uuid": "9e2512ad8b29d3599cababc7009febce91929869",
        "id": "sRvyxcsMm28C"
      },
      "source": [
        "#### 21) How to compute ((A+B)\\*(-A/2)) in place (without copy)? (★★☆)"
      ]
    },
    {
      "cell_type": "code",
      "execution_count": null,
      "metadata": {
        "_uuid": "4fb34450b8dfabe74d9e411ec45c717e15a0efcd",
        "id": "EQixKqeVm28D"
      },
      "outputs": [],
      "source": [
        "A = np.ones(3)*1\n",
        "B = np.ones(3)*2\n",
        "C = np.ones(3)*3\n"
      ]
    },
    {
      "cell_type": "markdown",
      "metadata": {
        "_uuid": "861564e1209df602ba9acf76b21764166d941f64",
        "id": "duOGkENGm28D"
      },
      "source": [
        "#### 22) Extract the integer part of a random array (★★☆)"
      ]
    },
    {
      "cell_type": "code",
      "execution_count": null,
      "metadata": {
        "_uuid": "26071c39ddc28c65fe06329b480504455890609e",
        "id": "r1MmXcWYm28D"
      },
      "outputs": [],
      "source": [
        "Z = np.random.uniform(0,10,10)\n",
        "\n"
      ]
    },
    {
      "cell_type": "markdown",
      "metadata": {
        "_uuid": "1acff22fb998865b58d5a9b37b0a5ce5b7f13387",
        "id": "GaGA57-Cm28E"
      },
      "source": [
        "#### 23) Create a 5x5 matrix with row values ranging from 0 to 4 (★★☆)"
      ]
    },
    {
      "cell_type": "code",
      "execution_count": null,
      "metadata": {
        "_uuid": "728c78dc7d9477e3300f58d589fbbc888df3cecb",
        "id": "2eM_L9R8m28E"
      },
      "outputs": [],
      "source": [
        "Z = np.zeros((5,5))\n"
      ]
    },
    {
      "cell_type": "markdown",
      "metadata": {
        "_uuid": "dd54ec03c8ce814c994611575b49cd2e14b4071a",
        "id": "ueHQ5D9ym28E"
      },
      "source": [
        "#### 24) Consider a generator function that generates 10 integers and use it to build an array (★☆☆)"
      ]
    },
    {
      "cell_type": "code",
      "execution_count": null,
      "metadata": {
        "_uuid": "229a68e06163a294e63f0b377aa697aa8c925cb2",
        "id": "o16d8cVMm28E"
      },
      "outputs": [],
      "source": []
    },
    {
      "cell_type": "markdown",
      "metadata": {
        "_uuid": "c52ceff787ef50f22325107cb5f5b1bfac61858f",
        "id": "2hKPIyzum28E"
      },
      "source": [
        "#### 25) Create a vector of size 10 with values ranging from 0 to 1, both excluded (★★☆)"
      ]
    },
    {
      "cell_type": "code",
      "execution_count": null,
      "metadata": {
        "_uuid": "bcdb9a3b3a6a47768f53ea8e25b70070566c87eb",
        "id": "pyR5xECfm28F"
      },
      "outputs": [],
      "source": []
    },
    {
      "cell_type": "markdown",
      "metadata": {
        "_uuid": "34f5d6e2e269678714f1e5aafec8a92d6411ecd3",
        "id": "VfV7tZh3m28F"
      },
      "source": [
        "#### 26) Create a random vector of size 10 and sort it (★★☆)"
      ]
    },
    {
      "cell_type": "code",
      "execution_count": null,
      "metadata": {
        "_uuid": "650bd640404dd8cfdbeb0d91b8fc5ea844ee60a8",
        "id": "KjycNA9rm28F"
      },
      "outputs": [],
      "source": []
    },
    {
      "cell_type": "markdown",
      "metadata": {
        "_uuid": "0502011982ec9de8f998bdcc76ff2d00dc9bad6e",
        "id": "PngVvnNym28F"
      },
      "source": [
        "#### 27) Consider two random array A and B, check if they are equal (★★☆)"
      ]
    },
    {
      "cell_type": "code",
      "execution_count": null,
      "metadata": {
        "_uuid": "bc542c3112954260eac0bcf08bc8b0ae2ce0ae33",
        "id": "XsRrzf-Em28F"
      },
      "outputs": [],
      "source": [
        "A = np.random.randint(0,2,5)\n",
        "B = np.random.randint(0,2,5)\n",
        "\n"
      ]
    },
    {
      "cell_type": "markdown",
      "metadata": {
        "_uuid": "100623c44dc702d6ac2ac5d35b4e5173c906f317",
        "id": "FSSo8mOvm28G"
      },
      "source": [
        "#### 28) Make an array immutable (read-only) (★★☆)"
      ]
    },
    {
      "cell_type": "code",
      "execution_count": null,
      "metadata": {
        "_uuid": "14189438d83341e3e1f92c6a2ced78eefe330569",
        "id": "DLcd1rOHm28G"
      },
      "outputs": [],
      "source": [
        "Z = np.zeros(10)\n"
      ]
    },
    {
      "cell_type": "markdown",
      "metadata": {
        "_uuid": "353f854c6c99f2889b0d31cc69bc1fd7fccd0fe1",
        "id": "c_3De7Gom28G"
      },
      "source": [
        "#### 29) Create random vector of size 10 and replace the maximum value by 0 (★★☆)"
      ]
    },
    {
      "cell_type": "code",
      "execution_count": null,
      "metadata": {
        "_uuid": "fd9c6de99887f58497e8880f38b8aab24beaef6a",
        "id": "tLQlMGM7m28G"
      },
      "outputs": [],
      "source": [
        "Z = np.random.random(10)\n"
      ]
    },
    {
      "cell_type": "markdown",
      "metadata": {
        "_uuid": "35b4e9307a72301c43b077924e4674cdee69fdf0",
        "id": "q5zJrgVCm28G"
      },
      "source": [
        "#### 30) How to convert a float (32 bits) array into an integer (32 bits) in place?"
      ]
    },
    {
      "cell_type": "code",
      "execution_count": null,
      "metadata": {
        "_uuid": "c67695d2efff4f63dbe4037694504a84deb8d4b9",
        "id": "695A4z-Gm28G"
      },
      "outputs": [],
      "source": [
        "Z = np.arange(10, dtype=np.float32)\n"
      ]
    },
    {
      "cell_type": "markdown",
      "metadata": {
        "_uuid": "389113b4e22ac2f5454686a38fa9f4e2500e4c52",
        "id": "vAWpXDBCm28H"
      },
      "source": [
        "#### 31) randomly place 3 elements in a 2D array? (★★☆)"
      ]
    },
    {
      "cell_type": "code",
      "execution_count": null,
      "metadata": {
        "_uuid": "442c3c5664c0d9dbbe7149a0924e47c4a9699097",
        "id": "iaT-147Km28H"
      },
      "outputs": [],
      "source": [
        "n = 10\n",
        "p = 3\n",
        "Z = np.zeros((n,n))\n"
      ]
    },
    {
      "cell_type": "markdown",
      "metadata": {
        "_uuid": "ad23d8b28a5016197192b4a6ecdfa61d3c54f49f",
        "id": "Sc2J4RGum28I"
      },
      "source": [
        "#### 32) Subtract the mean of each row of a matrix (★★☆)"
      ]
    },
    {
      "cell_type": "code",
      "execution_count": null,
      "metadata": {
        "_uuid": "62937a93af1f4bd2ee201a0a28d92ad2e39aeadf",
        "id": "Ymuf2pham28I"
      },
      "outputs": [],
      "source": [
        "X = np.random.rand(5, 10)\n"
      ]
    },
    {
      "cell_type": "markdown",
      "metadata": {
        "_uuid": "6dfaee28f6ffc182b31d95b2dd7db135b3cda134",
        "id": "ANjdzTQwm28I"
      },
      "source": [
        "#### 33) sort an array by the 1st column? (★★☆)"
      ]
    },
    {
      "cell_type": "code",
      "execution_count": null,
      "metadata": {
        "_uuid": "6d6526eff2206d6766e34a8a9d4aa45222304ecc",
        "id": "994bJjl8m28I",
        "outputId": "cec6110a-4b44-4ea8-f32e-da95495520c3"
      },
      "outputs": [
        {
          "data": {
            "text/plain": [
              "array([[2, 8, 3],\n",
              "       [3, 0, 4],\n",
              "       [3, 3, 7]])"
            ]
          },
          "execution_count": 21,
          "metadata": {},
          "output_type": "execute_result"
        }
      ],
      "source": [
        "Z = np.random.randint(0,10,(3,3))\n",
        "Z"
      ]
    },
    {
      "cell_type": "markdown",
      "metadata": {
        "_uuid": "c446326eba80f10ee44e69c38975a02b76272c66",
        "id": "fSooFIyUm28J"
      },
      "source": [
        "#### 34) Find the nearest value from a given value z in an array Z(★★☆)"
      ]
    },
    {
      "cell_type": "code",
      "execution_count": null,
      "metadata": {
        "_uuid": "475de3550f77c7407940a0b31eeb5016286445c4",
        "id": "kz9R-jk9m28J"
      },
      "outputs": [],
      "source": [
        "Z = np.random.uniform(0,1,10)\n",
        "z = 0.5\n"
      ]
    },
    {
      "cell_type": "markdown",
      "metadata": {
        "_uuid": "ed78b6480e33d62936d0454ef9757390456a37e8",
        "id": "-Dknd-Jom28J"
      },
      "source": [
        "#### 35) Considering two arrays with shape (1,3) and (3,1): to compute their sum using an iterator (★★☆)"
      ]
    },
    {
      "cell_type": "code",
      "execution_count": null,
      "metadata": {
        "_uuid": "59b473c6731410e9a83cbf30b56fc6463c4ee8a4",
        "id": "HKrZ3lAfm28J"
      },
      "outputs": [],
      "source": [
        "A = np.arange(3).reshape(3,1)\n",
        "B = np.arange(3).reshape(1,3)\n"
      ]
    },
    {
      "cell_type": "markdown",
      "metadata": {
        "_uuid": "24b86507600d4f283f09b3117a0b9266446e5b98",
        "id": "pfu74iT2m28K"
      },
      "source": [
        "#### 36) find the most frequent value in an array"
      ]
    },
    {
      "cell_type": "code",
      "execution_count": null,
      "metadata": {
        "_uuid": "bc112b94dc08691f315afb878bdd2c52cbb4c3bc",
        "id": "P-VvELWXm28K"
      },
      "outputs": [],
      "source": [
        "Z = np.random.randint(0,10,50)\n"
      ]
    },
    {
      "cell_type": "markdown",
      "metadata": {
        "_uuid": "c5a8dd39a51cf4dbe37653e3d6131d06ac7a449c",
        "id": "SLmxBK7mm28K"
      },
      "source": [
        "#### 37) Given a two dimensional array, extract unique rows (★★★)"
      ]
    },
    {
      "cell_type": "code",
      "execution_count": null,
      "metadata": {
        "_uuid": "2015fb48f278ce0021a3aa8f98db67438d2d92a6",
        "id": "Y7cfg27fm28K"
      },
      "outputs": [],
      "source": [
        "Z = np.random.randint(0,2,(6,3))\n"
      ]
    },
    {
      "cell_type": "code",
      "execution_count": null,
      "metadata": {
        "id": "T4ZE4H-zm28K"
      },
      "outputs": [],
      "source": []
    }
  ],
  "metadata": {
    "kernelspec": {
      "display_name": "Python 3 (ipykernel)",
      "language": "python",
      "name": "python3"
    },
    "language_info": {
      "codemirror_mode": {
        "name": "ipython",
        "version": 3
      },
      "file_extension": ".py",
      "mimetype": "text/x-python",
      "name": "python",
      "nbconvert_exporter": "python",
      "pygments_lexer": "ipython3",
      "version": "3.11.0"
    },
    "colab": {
      "provenance": []
    }
  },
  "nbformat": 4,
  "nbformat_minor": 0
}